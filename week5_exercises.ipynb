{
 "cells": [
  {
   "cell_type": "markdown",
   "metadata": {},
   "source": [
    "![erd](images/ERD.png)"
   ]
  },
  {
   "cell_type": "markdown",
   "metadata": {},
   "source": [
    "## Instruction\n",
    "\n",
    "1. ใช้ project myshop เดิมจากของ WEEK 4 มาทำต่อได้เลยครับ (ใครที่หา project ของ WEEK 4 ไม่เจอแล้ว ให้กลับไปทำตามขั้ยตอนใน week4_exercises.ipynb)\n",
    "2. ใช้ database `shop` เดิมได้เลยเช่นกันครับ"
   ]
  },
  {
   "cell_type": "code",
   "execution_count": 214,
   "metadata": {},
   "outputs": [],
   "source": [
    "import os\n",
    "os.environ['DJANGO_ALLOW_ASYNC_UNSAFE'] = \"true\"\n",
    "\n",
    "# import modules\n",
    "from shop.models import *"
   ]
  },
  {
   "cell_type": "markdown",
   "metadata": {},
   "source": [
    "### 1. annotate(), F()"
   ]
  },
  {
   "cell_type": "markdown",
   "metadata": {},
   "source": [
    "1.1 ให้นักศึกษาค้นหาข้อมูล `Payment` โดยให้เพิ่ม field ราคาที่ลบกับส่วนลดแล้ว โดยกำหนดให้ชื่อ field ว่า \"after_discount_price\" โดยใช้แสดงข้อมูล 10 ตัวแรกเรียงตาม \"after_discount_price\" จากมากไปน้อย (0.25 คะแนน)\n",
    "\n",
    "**หมายเหตุ: จะต้องใช้ annotate() นะครับ**\n",
    "\n",
    "ตัวอย่าง Output\n",
    "\n",
    "```\n",
    "ID: 92, PRICE: 1200500.00, DISCOUNT 29433.25, AFTER_DISCOUNT 1171066.75\n",
    "ID: 82, PRICE: 1200280.00, DISCOUNT 46229.40, AFTER_DISCOUNT 1154050.60\n",
    "ID: 137, PRICE: 1200690.00, DISCOUNT 71407.25, AFTER_DISCOUNT 1129282.75\n",
    "ID: 105, PRICE: 1200390.00, DISCOUNT 105019.11, AFTER_DISCOUNT 1095370.89\n",
    "ID: 45, PRICE: 1218900.00, DISCOUNT 126859.95, AFTER_DISCOUNT 1092040.05\n",
    "ID: 7, PRICE: 1201200.00, DISCOUNT 113446.20, AFTER_DISCOUNT 1087753.80\n",
    "ID: 18, PRICE: 1202190.00, DISCOUNT 121922.64, AFTER_DISCOUNT 1080267.36\n",
    "ID: 77, PRICE: 379000.00, DISCOUNT 19397.00, AFTER_DISCOUNT 359603.00\n",
    "ID: 127, PRICE: 320450.00, DISCOUNT 14578.90, AFTER_DISCOUNT 305871.10\n",
    "ID: 125, PRICE: 320399.00, DISCOUNT 17939.55, AFTER_DISCOUNT 302459.45\n",
    "```"
   ]
  },
  {
   "cell_type": "code",
   "execution_count": 137,
   "metadata": {},
   "outputs": [
    {
     "name": "stdout",
     "output_type": "stream",
     "text": [
      "ID: 92, PRICE: 1200500.00, DISCOUNT: 29433.25, AFTER_DISCOUNT: 1171066.75\n",
      "ID: 82, PRICE: 1200280.00, DISCOUNT: 46229.40, AFTER_DISCOUNT: 1154050.60\n",
      "ID: 137, PRICE: 1200690.00, DISCOUNT: 71407.25, AFTER_DISCOUNT: 1129282.75\n",
      "ID: 105, PRICE: 1200390.00, DISCOUNT: 105019.11, AFTER_DISCOUNT: 1095370.89\n",
      "ID: 45, PRICE: 1218900.00, DISCOUNT: 126859.95, AFTER_DISCOUNT: 1092040.05\n",
      "ID: 7, PRICE: 1201200.00, DISCOUNT: 113446.20, AFTER_DISCOUNT: 1087753.80\n",
      "ID: 18, PRICE: 1202190.00, DISCOUNT: 121922.64, AFTER_DISCOUNT: 1080267.36\n",
      "ID: 77, PRICE: 379000.00, DISCOUNT: 19397.00, AFTER_DISCOUNT: 359603.00\n",
      "ID: 127, PRICE: 320450.00, DISCOUNT: 14578.90, AFTER_DISCOUNT: 305871.10\n",
      "ID: 125, PRICE: 320399.00, DISCOUNT: 17939.55, AFTER_DISCOUNT: 302459.45\n"
     ]
    }
   ],
   "source": [
    "from django.db.models import F\n",
    "payment = (Payment.objects.annotate(after_discount_price=F('price')-F('discount')).order_by('-after_discount_price')[:10])\n",
    "for p in payment:\n",
    "    print(f\"ID: {p.id}, PRICE: {p.price}, DISCOUNT: {p.discount}, AFTER_DISCOUNT: {p.after_discount_price}\")"
   ]
  },
  {
   "cell_type": "markdown",
   "metadata": {},
   "source": [
    "1.2 ต่อเนื่องจากข้อ 1.1 ให้ filter เฉพาะข้อมูล `Payment` ที่มี \"after_discount_price\" มากกว่า 500,000 (0.25 คะแนน)\n",
    "\n",
    "ตัวอย่าง Output\n",
    "\n",
    "```\n",
    "ID: 92, PRICE: 1200500.00, DISCOUNT 29433.25, AFTER_DISCOUNT 1171066.75\n",
    "ID: 82, PRICE: 1200280.00, DISCOUNT 46229.40, AFTER_DISCOUNT 1154050.60\n",
    "ID: 137, PRICE: 1200690.00, DISCOUNT 71407.25, AFTER_DISCOUNT 1129282.75\n",
    "ID: 105, PRICE: 1200390.00, DISCOUNT 105019.11, AFTER_DISCOUNT 1095370.89\n",
    "ID: 45, PRICE: 1218900.00, DISCOUNT 126859.95, AFTER_DISCOUNT 1092040.05\n",
    "ID: 7, PRICE: 1201200.00, DISCOUNT 113446.20, AFTER_DISCOUNT 1087753.80\n",
    "ID: 18, PRICE: 1202190.00, DISCOUNT 121922.64, AFTER_DISCOUNT 1080267.36\n",
    "```"
   ]
  },
  {
   "cell_type": "code",
   "execution_count": 159,
   "metadata": {},
   "outputs": [
    {
     "name": "stdout",
     "output_type": "stream",
     "text": [
      "ID: 92, PRICE: 1200500.00, DISCOUNT: 29433.25, AFTER_DISCOUNT: 1171066.75\n",
      "ID: 82, PRICE: 1200280.00, DISCOUNT: 46229.40, AFTER_DISCOUNT: 1154050.60\n",
      "ID: 137, PRICE: 1200690.00, DISCOUNT: 71407.25, AFTER_DISCOUNT: 1129282.75\n",
      "ID: 105, PRICE: 1200390.00, DISCOUNT: 105019.11, AFTER_DISCOUNT: 1095370.89\n",
      "ID: 45, PRICE: 1218900.00, DISCOUNT: 126859.95, AFTER_DISCOUNT: 1092040.05\n",
      "ID: 7, PRICE: 1201200.00, DISCOUNT: 113446.20, AFTER_DISCOUNT: 1087753.80\n",
      "ID: 18, PRICE: 1202190.00, DISCOUNT: 121922.64, AFTER_DISCOUNT: 1080267.36\n"
     ]
    }
   ],
   "source": [
    "from django.db.models import F\n",
    "payment = (Payment.objects.annotate(after_discount_price=F('price')-F('discount')).filter(after_discount_price__gt=500000)).order_by('-after_discount_price')[:10]\n",
    "for p in payment:\n",
    "    print(f\"ID: {p.id}, PRICE: {p.price}, DISCOUNT: {p.discount}, AFTER_DISCOUNT: {p.after_discount_price}\")"
   ]
  },
  {
   "cell_type": "code",
   "execution_count": 15,
   "metadata": {},
   "outputs": [
    {
     "name": "stdout",
     "output_type": "stream",
     "text": [
      "[\n",
      "    {\n",
      "        \"id\": 17,\n",
      "        \"email\": \"anantaya.deena@gmail.com\",\n",
      "        \"address\": {\n",
      "            \"district\": \"Yan Nawa\",\n",
      "            \"location\": \"60 Thanon Chan Road\",\n",
      "            \"province\": \"Bangkok\",\n",
      "            \"postal_code\": 10120\n",
      "        },\n",
      "        \"full_name\": \"Anantaya Tontong\"\n",
      "    },\n",
      "    {\n",
      "        \"id\": 25,\n",
      "        \"email\": \"bancha.zeyou@gmail.com\",\n",
      "        \"address\": {\n",
      "            \"district\": \"Watthana\",\n",
      "            \"location\": \"6 Thong Lo Road\",\n",
      "            \"province\": \"Bangkok\",\n",
      "            \"postal_code\": 10110\n",
      "        },\n",
      "        \"full_name\": \"Bancha Kittisompong\"\n",
      "    },\n",
      "    {\n",
      "        \"id\": 19,\n",
      "        \"email\": \"chayapol.231@gmail.com\",\n",
      "        \"address\": {\n",
      "            \"district\": \"Hang Chat\",\n",
      "            \"location\": \"160 Lampang Road\",\n",
      "            \"province\": \"Lampang\",\n",
      "            \"postal_code\": 52190\n",
      "        },\n",
      "        \"full_name\": \"Chayapol Komprach\"\n",
      "    },\n",
      "    {\n",
      "        \"id\": 4,\n",
      "        \"email\": \"dejwit.tt@gmail.com\",\n",
      "        \"address\": {\n",
      "            \"district\": \"Chiang Khan\",\n",
      "            \"location\": \"150 Loei Road\",\n",
      "            \"province\": \"Loei\",\n",
      "            \"postal_code\": 42110\n",
      "        },\n",
      "        \"full_name\": \"Dejwit Tangjareonsakul\"\n",
      "    },\n",
      "    {\n",
      "        \"id\": 11,\n",
      "        \"email\": \"jack.maa@gmail.com\",\n",
      "        \"address\": {\n",
      "            \"district\": \"Bang Khen\",\n",
      "            \"location\": \"88 Phahonyothin Road\",\n",
      "            \"province\": \"Bangkok\",\n",
      "            \"postal_code\": 10220\n",
      "        },\n",
      "        \"full_name\": \"Jack Maa\"\n",
      "    }\n",
      "]\n"
     ]
    }
   ],
   "source": [
    "from django.db.models import F, Value\n",
    "from django.db.models.functions import Concat\n",
    "import json\n",
    "customer = list(Customer.objects.annotate(full_name=Concat(F('first_name'),Value(' '),F('last_name'))).values('id','email','address','full_name').order_by('full_name')[:5])\n",
    "print(json.dumps(customer, indent=4, sort_keys=False))"
   ]
  },
  {
   "cell_type": "markdown",
   "metadata": {},
   "source": [
    "1.3 ให้นักศึกษาเรียงลำดับข้อมูลลูกค้า (`Customer`) โดยเรียงลำดับตามลำดับตัวอักษร `น้อยไปมาก` จากชื่อเต็มของลูกค้า (`full_name`) โดยแสดง 5 คนแรก (0.5 คะแนน)\n",
    "\n",
    "**Hint:** Field `full_name` นั้นจะต้องถูก annotate ขึ้นมาโดยการนำ `first_name` มาต่อกับ `last_name` โดยใช้ `Concat(*expressions, **extra)` \n",
    "\n",
    "**Hint:** แปลง object เป็น dict ใช้ `values()` [doc](https://docs.djangoproject.com/en/5.0/ref/models/querysets/#values)\n",
    "\n",
    "```python\n",
    ">>> Blog.objects.filter(name__startswith=\"Beatles\").values()\n",
    "<QuerySet [{'id': 1, 'name': 'Beatles Blog', 'tagline': 'All the latest Beatles news.'}]>\n",
    "```\n",
    "\n",
    "**Hint:** อยาก print dictionary สวยๆ ใช้ `json.dumps`\n",
    "\n",
    "```python\n",
    "print(json.dumps(dictionary, indent=4, sort_keys=False))\n",
    "```\n",
    "\n",
    "[doc](https://docs.djangoproject.com/en/5.0/ref/models/database-functions/#concat)\n",
    "\n",
    "ตัวอย่าง Output \n",
    "\n",
    "```python\n",
    "{\n",
    "    \"id\": 17,\n",
    "    \"email\": \"anantaya.deena@gmail.com\",\n",
    "    \"address\": {\n",
    "        \"district\": \"Yan Nawa\",\n",
    "        \"location\": \"60 Thanon Chan Road\",\n",
    "        \"province\": \"Bangkok\",\n",
    "        \"postal_code\": 10120\n",
    "    },\n",
    "    \"full_name\": \"Anantaya Tontong\"\n",
    "}\n",
    "{\n",
    "    \"id\": 25,\n",
    "    \"email\": \"bancha.zeyou@gmail.com\",\n",
    "    \"address\": {\n",
    "        \"district\": \"Watthana\",\n",
    "        \"location\": \"6 Thong Lo Road\",\n",
    "        \"province\": \"Bangkok\",\n",
    "        \"postal_code\": 10110\n",
    "    },\n",
    "    \"full_name\": \"Bancha Kittisompong\"\n",
    "}\n",
    "{\n",
    "    \"id\": 19,\n",
    "    \"email\": \"chayapol.231@gmail.com\",\n",
    "    \"address\": {\n",
    "        \"district\": \"Hang Chat\",\n",
    "        \"location\": \"160 Lampang Road\",\n",
    "        \"province\": \"Lampang\",\n",
    "        \"postal_code\": 52190\n",
    "    },\n",
    "    \"full_name\": \"Chayapol Komprach\"\n",
    "}\n",
    "{\n",
    "    \"id\": 4,\n",
    "    \"email\": \"dejwit.tt@gmail.com\",\n",
    "    \"address\": {\n",
    "        \"district\": \"Chiang Khan\",\n",
    "        \"location\": \"150 Loei Road\",\n",
    "        \"province\": \"Loei\",\n",
    "        \"postal_code\": 42110\n",
    "    },\n",
    "    \"full_name\": \"Dejwit Tangjareonsakul\"\n",
    "}\n",
    "{\n",
    "    \"id\": 11,\n",
    "    \"email\": \"jack.maa@gmail.com\",\n",
    "    \"address\": {\n",
    "        \"district\": \"Bang Khen\",\n",
    "        \"location\": \"88 Phahonyothin Road\",\n",
    "        \"province\": \"Bangkok\",\n",
    "        \"postal_code\": 10220\n",
    "    },\n",
    "    \"full_name\": \"Jack Maa\"\n",
    "}\n",
    "\n",
    "```"
   ]
  },
  {
   "cell_type": "code",
   "execution_count": 343,
   "metadata": {},
   "outputs": [
    {
     "name": "stdout",
     "output_type": "stream",
     "text": [
      "[\n",
      "          {\n",
      "                    \"id\": 17,\n",
      "                    \"email\": \"anantaya.deena@gmail.com\",\n",
      "                    \"address\": {\n",
      "                              \"district\": \"Yan Nawa\",\n",
      "                              \"location\": \"60 Thanon Chan Road\",\n",
      "                              \"province\": \"Bangkok\",\n",
      "                              \"postal_code\": 10120\n",
      "                    },\n",
      "                    \"full_name\": \"Anantaya Tontong\"\n",
      "          },\n",
      "          {\n",
      "                    \"id\": 25,\n",
      "                    \"email\": \"bancha.zeyou@gmail.com\",\n",
      "                    \"address\": {\n",
      "                              \"district\": \"Watthana\",\n",
      "                              \"location\": \"6 Thong Lo Road\",\n",
      "                              \"province\": \"Bangkok\",\n",
      "                              \"postal_code\": 10110\n",
      "                    },\n",
      "                    \"full_name\": \"Bancha Kittisompong\"\n",
      "          },\n",
      "          {\n",
      "                    \"id\": 19,\n",
      "                    \"email\": \"chayapol.231@gmail.com\",\n",
      "                    \"address\": {\n",
      "                              \"district\": \"Hang Chat\",\n",
      "                              \"location\": \"160 Lampang Road\",\n",
      "                              \"province\": \"Lampang\",\n",
      "                              \"postal_code\": 52190\n",
      "                    },\n",
      "                    \"full_name\": \"Chayapol Komprach\"\n",
      "          },\n",
      "          {\n",
      "                    \"id\": 4,\n",
      "                    \"email\": \"dejwit.tt@gmail.com\",\n",
      "                    \"address\": {\n",
      "                              \"district\": \"Chiang Khan\",\n",
      "                              \"location\": \"150 Loei Road\",\n",
      "                              \"province\": \"Loei\",\n",
      "                              \"postal_code\": 42110\n",
      "                    },\n",
      "                    \"full_name\": \"Dejwit Tangjareonsakul\"\n",
      "          },\n",
      "          {\n",
      "                    \"id\": 11,\n",
      "                    \"email\": \"jack.maa@gmail.com\",\n",
      "                    \"address\": {\n",
      "                              \"district\": \"Bang Khen\",\n",
      "                              \"location\": \"88 Phahonyothin Road\",\n",
      "                              \"province\": \"Bangkok\",\n",
      "                              \"postal_code\": 10220\n",
      "                    },\n",
      "                    \"full_name\": \"Jack Maa\"\n",
      "          }\n",
      "]\n"
     ]
    }
   ],
   "source": [
    "from django.db.models import F, Value\n",
    "from django.db.models.functions import Concat\n",
    "import json\n",
    "customer = Customer.objects.annotate(full_name=Concat(F('first_name'),Value(' '),F('last_name'))).order_by('full_name')[:5].values('id', 'email', 'address', 'full_name')\n",
    "print(json.dumps(list(customer), indent=10, sort_keys=False))"
   ]
  },
  {
   "cell_type": "code",
   "execution_count": null,
   "metadata": {},
   "outputs": [],
   "source": []
  },
  {
   "cell_type": "markdown",
   "metadata": {},
   "source": [
    "### 3. aggregation - count(), sum(), AVG()\n"
   ]
  },
  {
   "cell_type": "markdown",
   "metadata": {},
   "source": [
    "3.1 ให้นักศึกษาหาค่าเฉลี่ยของราคาสินค้า (`Product.price`) ที่มีจำนวนคงเหลือ (`Product.remaining_amount`) มากกว่า 0 (0.25 คะแนน)\n",
    "\n",
    "``` PYTHON\n",
    "{'avg': Decimal('29308.000000000000')}\n",
    "```\n"
   ]
  },
  {
   "cell_type": "code",
   "execution_count": 114,
   "metadata": {},
   "outputs": [
    {
     "name": "stdout",
     "output_type": "stream",
     "text": [
      "{'avg': Decimal('29308.000000000000')}\n"
     ]
    }
   ],
   "source": [
    "avg_price = Product.objects.filter(remaining_amount__gt=0).aggregate(avg=Avg('price',default=0))\n",
    "print(avg_price)"
   ]
  },
  {
   "cell_type": "markdown",
   "metadata": {},
   "source": [
    "3.2 จงหาผลรวมราคา (`CartItem.product.price`) ที่อยู่ในตระกร้าสินค้าของเดือน `พฤษภาคม` (ดูจาก `Cart.create_date`) (0.5 คะแนน)\n",
    "\n",
    "```PYTHON\n",
    "{'sum': Decimal('9912555.00')}\n",
    "\n",
    "```"
   ]
  },
  {
   "cell_type": "code",
   "execution_count": 200,
   "metadata": {
    "scrolled": true
   },
   "outputs": [
    {
     "name": "stdout",
     "output_type": "stream",
     "text": [
      "{'sum': Decimal('9912555.00')}\n"
     ]
    }
   ],
   "source": [
    "from django.db.models import Sum, F\n",
    "total = (CartItem.objects.filter(cart__create_date__month=5).aggregate(sum=Sum('product__price')))\n",
    "print(total)"
   ]
  },
  {
   "cell_type": "markdown",
   "metadata": {},
   "source": [
    "3.3 ให้นักศึกษานับจำนวนสินค้าที่อยู่ประเภท `Electronics`,  `Jewelry` และ ราคาของสินค้าอยู่ในช่วง 8,000.00 - 50,000.00 (0.25 คะแนน)\n",
    "\n",
    "```\n",
    "PRODUCT CATEGORY NAME: Electronics, PRODUCT COUNT: 6\n",
    "PRODUCT CATEGORY NAME: Jewelry, PRODUCT COUNT: 1\n",
    "```"
   ]
  },
  {
   "cell_type": "code",
   "execution_count": 118,
   "metadata": {},
   "outputs": [
    {
     "name": "stdout",
     "output_type": "stream",
     "text": [
      "PRODUCT CATEGORY NAME: Electronics, PRODUCT COUNT: 6\n",
      "PRODUCT CATEGORY NAME: Jewelry, PRODUCT COUNT: 1\n"
     ]
    }
   ],
   "source": [
    "from django.db.models import Count\n",
    "product = (Product.objects.filter(categories__name__in=['Electronics', 'Jewelry'],price__gt=8000,price__lt=50000).values('categories__name').annotate(p_count=Count('id')))\n",
    "for p in product:\n",
    "    print(f\"PRODUCT CATEGORY NAME: {p['categories__name']}, PRODUCT COUNT: {p['p_count']}\")"
   ]
  },
  {
   "cell_type": "code",
   "execution_count": 68,
   "metadata": {},
   "outputs": [
    {
     "name": "stdout",
     "output_type": "stream",
     "text": [
      "PRODUCT CATEGORY NAME: Electronics, PRODUCT COUNT: 6\n",
      "PRODUCT CATEGORY NAME: Jewelry, PRODUCT COUNT: 1\n"
     ]
    }
   ],
   "source": [
    "from django.db.models import Count\n",
    "product = (Product.objects.filter(categories__name__in=['Electronics', 'Jewelry'],price__gt=8000,price__lt=50000).values('categories__name').annotate(p_count=Count('id')))\n",
    "for p in product:\n",
    "    print(f\"PRODUCT CATEGORY NAME: {p['categories__name']}, PRODUCT COUNT: {p['p_count']}\")"
   ]
  },
  {
   "cell_type": "markdown",
   "metadata": {},
   "source": [
    "### 4. one-to-one & one-to-many"
   ]
  },
  {
   "cell_type": "markdown",
   "metadata": {},
   "source": [
    "4.1 ให้นักศึกษาทำการ INSERT ข้อมูลใบสั่งซื้อ (`Order`) และการชำระเงิน (`Payment`) ของลูกค้าชื่อ `Manit Senapan` ตามรายการดังนี้ให้สมบูรณ์ (0.5 คะแนน)\n",
    "\n",
    "**Hint:** ใน model `Payment` เรามีการเก็บค่า `price` เป็น Decimal ทำให้ค่าของราคาเป็น Decimal เช่นกัน)\n",
    "[Decimal](https://docs.python.org/3/library/decimal.html)\n",
    "\n",
    "- ออกใบสั่งซื้อวันที่ 5 สิงหาคม 2024\n",
    "- ชำระเงินวันที่ 6 สิงหาคม 2024\n",
    "- หมายเหตุ: `ฉันรวย อยากใช้เงินเยอะๆ`\n",
    "    \n",
    "    โดย Manit สั่งสิ้นค้าดั่งนี้\n",
    "\n",
    "        - Diamond Stud Earrings จำนวน 1 ชิ้น\n",
    "\n",
    "        - Sofa จำนวน 2 ชิ้น\n",
    "\n",
    "        - Rose Gold Hoop Earrings จำนวน 1 ชิ้น\n",
    "    \n",
    "- โดยที่ Manit ได้รับส่วนลดชิ้นละ 10 % ของสินค้า และมีการระบุหมายเหตุตอนชำระเงินว่า `ลูกค้า VIP ของเรา`\n",
    "    \n",
    "- พร้อมชำระเงินโดยให้ 50 % ของราคาทั้งหมดชำระด้วยการแสกน QR code และที่เหลือชำระผ่านบัตรเคดิต\n",
    "\n",
    "- จากนั้นให้ระบบแสดงผลการสร้างใบสั่งซื้อ และการชำระเงินของ Manit ให้ถูกต้อง\n",
    "\n",
    "\n",
    "ตัวอย่าง output ที่ต้องการ\n",
    "```PYTHON\n",
    "{\n",
    "    'order_id': 186,\n",
    "    'order_date': '2024-08-05',\n",
    "    'order_remark': 'ฉันรวย อยากใช้เงินเยอะๆ',\n",
    "    'products': [\n",
    "        {\n",
    "            'product': 'Diamond Stud Earrings',\n",
    "            'amount': 1,\n",
    "            'price': 320000.0,\n",
    "            'discount': 32000.0\n",
    "        },\n",
    "        {\n",
    "            'product': 'Sofa', \n",
    "            'amount': 2, \n",
    "            'price': 14000.0, \n",
    "            'discount': 1400.0\n",
    "        },\n",
    "        {\n",
    "            'product': 'Rose Gold Hoop Earrings',\n",
    "            'amount': 1,\n",
    "            'price': 1200000.0,\n",
    "            'discount': 120000.0\n",
    "        }\n",
    "    ],\n",
    "    'payment_date': '2024-08-06',\n",
    "    'payment_remark': 'ลูกค้า VIP ของเรา',\n",
    "    'payment_method': [\n",
    "        {\n",
    "            'method': 'QR', \n",
    "            'price': 767000.0\n",
    "        },\n",
    "        {\n",
    "            'method': 'CREDIT', \n",
    "            'price': 767000.0\n",
    "        }\n",
    "    ]\n",
    "}\n",
    "\n",
    "```"
   ]
  },
  {
   "cell_type": "code",
   "execution_count": null,
   "metadata": {},
   "outputs": [],
   "source": [
    " "
   ]
  },
  {
   "cell_type": "code",
   "execution_count": null,
   "metadata": {},
   "outputs": [],
   "source": [
    " "
   ]
  },
  {
   "cell_type": "markdown",
   "metadata": {},
   "source": [
    "### 5. many-to-many"
   ]
  },
  {
   "cell_type": "markdown",
   "metadata": {},
   "source": [
    "5.1 ให้นักศึกษาค้นหาข้อมูลสินค้า (`Product`) ที่อยู่ในประเภทสินค้า \"Information technology\" 10 รายการแรก (เรียงลำดับด้วย `Product.id`) และแสดงชื่อประเภทสินค้า (`ProductCategory`) (0.25 คะแนน)\n",
    "\n",
    "ตัวอย่าง Output บางส่วน\n",
    "\n",
    "```\n",
    "PRODUCT ID: 1, PRODUCT NAME: Smartphone, PRODUCT CATEGORY: Information technology, Electronics\n",
    "PRODUCT ID: 2, PRODUCT NAME: Laptop, PRODUCT CATEGORY: Information technology, Electronics\n",
    "PRODUCT ID: 3, PRODUCT NAME: Smart TV, PRODUCT CATEGORY: Information technology, Electronics\n",
    "```"
   ]
  },
  {
   "cell_type": "code",
   "execution_count": 284,
   "metadata": {},
   "outputs": [
    {
     "name": "stdout",
     "output_type": "stream",
     "text": [
      "PRODUCT ID: 1, PRODUCT NAME: Smartphone, PRODUCT CATEGORIES: Information Technology, Electronics\n",
      "PRODUCT ID: 2, PRODUCT NAME: Laptop, PRODUCT CATEGORIES: Information Technology, Electronics\n",
      "PRODUCT ID: 3, PRODUCT NAME: Smart TV, PRODUCT CATEGORIES: Information Technology, Electronics\n",
      "PRODUCT ID: 4, PRODUCT NAME: Bluetooth Earphones, PRODUCT CATEGORIES: Information Technology, Electronics\n",
      "PRODUCT ID: 5, PRODUCT NAME: Tablet, PRODUCT CATEGORIES: Information Technology, Electronics\n",
      "PRODUCT ID: 6, PRODUCT NAME: Gaming Console, PRODUCT CATEGORIES: Information Technology, Electronics\n",
      "PRODUCT ID: 7, PRODUCT NAME: Digital Camera, PRODUCT CATEGORIES: Information Technology, Electronics\n",
      "PRODUCT ID: 8, PRODUCT NAME: Wireless Router, PRODUCT CATEGORIES: Information Technology, Electronics\n",
      "PRODUCT ID: 9, PRODUCT NAME: Portable Power Bank, PRODUCT CATEGORIES: Information Technology, Electronics\n",
      "PRODUCT ID: 10, PRODUCT NAME: Smartwatch, PRODUCT CATEGORIES: Information Technology, Electronics\n"
     ]
    }
   ],
   "source": [
    "products = Product.objects.filter(categories__name=\"Information Technology\").order_by('id')[:10]\n",
    "for p in products:\n",
    "    cat = \", \".join([cat.name for cat in p.categories.all()])\n",
    "    print(f\"PRODUCT ID: {p.id}, PRODUCT NAME: {p.name}, PRODUCT CATEGORIES: {cat}\")"
   ]
  },
  {
   "cell_type": "code",
   "execution_count": 126,
   "metadata": {},
   "outputs": [
    {
     "name": "stdout",
     "output_type": "stream",
     "text": [
      "PRODUCT ID: 1, PRODUCT NAME: Smartphone, PRODUCT CATEGORIES: ['Information Technology', 'Electronics']\n",
      "PRODUCT ID: 2, PRODUCT NAME: Laptop, PRODUCT CATEGORIES: ['Information Technology', 'Electronics']\n",
      "PRODUCT ID: 3, PRODUCT NAME: Smart TV, PRODUCT CATEGORIES: ['Information Technology', 'Electronics']\n",
      "PRODUCT ID: 4, PRODUCT NAME: Bluetooth Earphones, PRODUCT CATEGORIES: ['Information Technology', 'Electronics']\n",
      "PRODUCT ID: 5, PRODUCT NAME: Tablet, PRODUCT CATEGORIES: ['Information Technology', 'Electronics']\n",
      "PRODUCT ID: 6, PRODUCT NAME: Gaming Console, PRODUCT CATEGORIES: ['Information Technology', 'Electronics']\n",
      "PRODUCT ID: 7, PRODUCT NAME: Digital Camera, PRODUCT CATEGORIES: ['Information Technology', 'Electronics']\n",
      "PRODUCT ID: 8, PRODUCT NAME: Wireless Router, PRODUCT CATEGORIES: ['Information Technology', 'Electronics']\n",
      "PRODUCT ID: 9, PRODUCT NAME: Portable Power Bank, PRODUCT CATEGORIES: ['Information Technology', 'Electronics']\n",
      "PRODUCT ID: 10, PRODUCT NAME: Smartwatch, PRODUCT CATEGORIES: ['Information Technology', 'Electronics']\n"
     ]
    }
   ],
   "source": [
    "# กรองสินค้าเฉพาะที่มีประเภทสินค้าเป็น \"Information Technology\" และจัดเรียงตาม id\n",
    "products = Product.objects.filter(categories__name=\"Information Technology\").order_by('id')[:10]\n",
    "\n",
    "# วนลูปผ่านสินค้าแต่ละตัวที่ได้จากการกรอง\n",
    "for p in products:\n",
    "    # ใช้ list comprehension เพื่อดึงชื่อประเภทสินค้าของสินค้าแต่ละตัว\n",
    "    categories = [cat.name for cat in p.categories.all()]\n",
    "    # พิมพ์ข้อมูลสินค้าและชื่อประเภทสินค้าในบรรทัดเดียว\n",
    "    print(f\"PRODUCT ID: {p.id}, PRODUCT NAME: {p.name}, PRODUCT CATEGORIES: {categories}\")"
   ]
  },
  {
   "cell_type": "markdown",
   "metadata": {},
   "source": [
    "5.2 ให้นักศึกษาทำตามขั้นตอนดังนี้ (0.25 คะแนน)\n",
    "\n",
    "    1. เปลี่ยนชื่อประเภทสินค้า `Books and Media` เป็น `Books and Toys` \n",
    "    2. ลบประเภท `Toys and Games` ออกโดยให้ใช้เป็น `Books and Toys` แทน\n",
    "    3. ค้นหาว่าสินค้าที่มีประเภทสินค้าเป็น `Books and Toys` ทั้งหมดมีจำนวนเท่าไหร่"
   ]
  },
  {
   "cell_type": "code",
   "execution_count": 287,
   "metadata": {},
   "outputs": [],
   "source": [
    "n = ProductCategory.objects.get(name=\"Books and Media\")\n",
    "n.name = \"Books and Toy\"\n",
    "n.save()"
   ]
  },
  {
   "cell_type": "code",
   "execution_count": 340,
   "metadata": {},
   "outputs": [],
   "source": [
    "o = ProductCategory.objects.get(name=\"Toys and Games\")#ดึงข้อมูลประเภทสินค้าที่มีชื่อ \"Toys and Games\" จากฐานข้อมูล และเก็บไว้ในตัวแปร o\n",
    "a = Product.objects.filter(categories__name=\"Toys and Games\")#ดึงข้อมูลสินค้าทั้งหมดที่มีประเภทสินค้าเป็น \"Toys and Games\" และเก็บไว้ในตัวแปร a\n",
    "for i in a:\n",
    "    i.categories.add(n)\n",
    "    i.categories.remove(o)\n"
   ]
  },
  {
   "cell_type": "code",
   "execution_count": 336,
   "metadata": {},
   "outputs": [
    {
     "name": "stdout",
     "output_type": "stream",
     "text": [
      "<QuerySet [<Product: Product object (41)>, <Product: Product object (42)>, <Product: Product object (43)>, <Product: Product object (44)>, <Product: Product object (45)>, <Product: Product object (46)>, <Product: Product object (47)>, <Product: Product object (48)>, <Product: Product object (49)>, <Product: Product object (50)>]>\n"
     ]
    }
   ],
   "source": [
    "p = Product.objects.filter(categories__name=\"Books and Toy\")\n",
    "print(p)"
   ]
  },
  {
   "cell_type": "code",
   "execution_count": 337,
   "metadata": {},
   "outputs": [
    {
     "data": {
      "text/plain": [
       "10"
      ]
     },
     "execution_count": 337,
     "metadata": {},
     "output_type": "execute_result"
    }
   ],
   "source": [
    "p.count()"
   ]
  },
  {
   "cell_type": "code",
   "execution_count": null,
   "metadata": {},
   "outputs": [],
   "source": []
  },
  {
   "cell_type": "code",
   "execution_count": null,
   "metadata": {},
   "outputs": [],
   "source": []
  },
  {
   "cell_type": "code",
   "execution_count": null,
   "metadata": {},
   "outputs": [],
   "source": []
  },
  {
   "cell_type": "code",
   "execution_count": null,
   "metadata": {},
   "outputs": [],
   "source": []
  },
  {
   "cell_type": "code",
   "execution_count": null,
   "metadata": {},
   "outputs": [],
   "source": []
  },
  {
   "cell_type": "code",
   "execution_count": null,
   "metadata": {},
   "outputs": [],
   "source": []
  },
  {
   "cell_type": "code",
   "execution_count": null,
   "metadata": {},
   "outputs": [],
   "source": []
  },
  {
   "cell_type": "code",
   "execution_count": null,
   "metadata": {},
   "outputs": [],
   "source": []
  },
  {
   "cell_type": "code",
   "execution_count": null,
   "metadata": {},
   "outputs": [],
   "source": []
  },
  {
   "cell_type": "code",
   "execution_count": null,
   "metadata": {},
   "outputs": [],
   "source": []
  },
  {
   "cell_type": "code",
   "execution_count": null,
   "metadata": {},
   "outputs": [],
   "source": []
  },
  {
   "cell_type": "code",
   "execution_count": null,
   "metadata": {},
   "outputs": [],
   "source": []
  },
  {
   "cell_type": "markdown",
   "metadata": {},
   "source": [
    "1.1 ให้นักศึกษาค้นหาข้อมูล Payment โดยให้เพิ่ม field ราคาที่ลบกับส่วนลดแล้ว โดยกำหนดให้ชื่อ field ว่า \"after_discount_price\" โดยใช้แสดงข้อมูล 10 ตัวแรกเรียงตาม \"after_discount_price\" จากมากไปน้อย (0.25 คะแนน)\n",
    "\n",
    "หมายเหตุ: จะต้องใช้ annotate() นะครับ\n",
    "\n",
    "ตัวอย่าง Output\n",
    "\n",
    "ID: 92, PRICE: 1200500.00, DISCOUNT 29433.25, AFTER_DISCOUNT 1171066.75\n",
    "ID: 82, PRICE: 1200280.00, DISCOUNT 46229.40, AFTER_DISCOUNT 1154050.60\n",
    "ID: 137, PRICE: 1200690.00, DISCOUNT 71407.25, AFTER_DISCOUNT 1129282.75\n",
    "ID: 105, PRICE: 1200390.00, DISCOUNT 105019.11, AFTER_DISCOUNT 1095370.89\n",
    "ID: 45, PRICE: 1218900.00, DISCOUNT 126859.95, AFTER_DISCOUNT 1092040.05\n",
    "ID: 7, PRICE: 1201200.00, DISCOUNT 113446.20, AFTER_DISCOUNT 1087753.80\n",
    "ID: 18, PRICE: 1202190.00, DISCOUNT 121922.64, AFTER_DISCOUNT 1080267.36\n",
    "ID: 77, PRICE: 379000.00, DISCOUNT 19397.00, AFTER_DISCOUNT 359603.00\n",
    "ID: 127, PRICE: 320450.00, DISCOUNT 14578.90, AFTER_DISCOUNT 305871.10\n",
    "ID: 125, PRICE: 320399.00, DISCOUNT 17939.55, AFTER_DISCOUNT 302459.45"
   ]
  },
  {
   "cell_type": "code",
   "execution_count": null,
   "metadata": {},
   "outputs": [],
   "source": []
  },
  {
   "cell_type": "code",
   "execution_count": 6,
   "metadata": {},
   "outputs": [
    {
     "name": "stdout",
     "output_type": "stream",
     "text": [
      "ID: 186, PRICE:1380600.00, DISCOUNT: 138060.00, After:1242540.00\n",
      "ID: 92, PRICE:1200500.00, DISCOUNT: 29433.25, After:1171066.75\n",
      "ID: 82, PRICE:1200280.00, DISCOUNT: 46229.40, After:1154050.60\n",
      "ID: 137, PRICE:1200690.00, DISCOUNT: 71407.25, After:1129282.75\n",
      "ID: 105, PRICE:1200390.00, DISCOUNT: 105019.11, After:1095370.89\n",
      "ID: 45, PRICE:1218900.00, DISCOUNT: 126859.95, After:1092040.05\n",
      "ID: 7, PRICE:1201200.00, DISCOUNT: 113446.20, After:1087753.80\n",
      "ID: 18, PRICE:1202190.00, DISCOUNT: 121922.64, After:1080267.36\n",
      "ID: 77, PRICE:379000.00, DISCOUNT: 19397.00, After:359603.00\n",
      "ID: 127, PRICE:320450.00, DISCOUNT: 14578.90, After:305871.10\n"
     ]
    }
   ],
   "source": [
    "from shop.models import Payment\n",
    "from django.db.models import F\n",
    "payment = Payment.objects.annotate(after_discount_price=F('price')-F('discount')).order_by('-after_discount_price')[:10]\n",
    "for p in payment:\n",
    "    print(f\"ID: {p.id}, PRICE:{p.price}, DISCOUNT: {p.discount}, After:{p.after_discount_price}\")"
   ]
  },
  {
   "cell_type": "code",
   "execution_count": null,
   "metadata": {},
   "outputs": [],
   "source": []
  },
  {
   "cell_type": "code",
   "execution_count": null,
   "metadata": {},
   "outputs": [],
   "source": [
    "ต่อเนื่องจากข้อ 1.1 ให้ filter เฉพาะข้อมูล Payment ที่มี \"after_discount_price\" มากกว่า 500,000 (0.25 คะแนน)"
   ]
  },
  {
   "cell_type": "code",
   "execution_count": 9,
   "metadata": {},
   "outputs": [
    {
     "name": "stdout",
     "output_type": "stream",
     "text": [
      "ID: 186, PRICE: 1380600.00, DISCOUNT: 138060.00, AFTER_DISCOUNT: 1242540.00\n",
      "ID: 92, PRICE: 1200500.00, DISCOUNT: 29433.25, AFTER_DISCOUNT: 1171066.75\n",
      "ID: 82, PRICE: 1200280.00, DISCOUNT: 46229.40, AFTER_DISCOUNT: 1154050.60\n",
      "ID: 137, PRICE: 1200690.00, DISCOUNT: 71407.25, AFTER_DISCOUNT: 1129282.75\n",
      "ID: 105, PRICE: 1200390.00, DISCOUNT: 105019.11, AFTER_DISCOUNT: 1095370.89\n",
      "ID: 45, PRICE: 1218900.00, DISCOUNT: 126859.95, AFTER_DISCOUNT: 1092040.05\n",
      "ID: 7, PRICE: 1201200.00, DISCOUNT: 113446.20, AFTER_DISCOUNT: 1087753.80\n",
      "ID: 18, PRICE: 1202190.00, DISCOUNT: 121922.64, AFTER_DISCOUNT: 1080267.36\n"
     ]
    }
   ],
   "source": [
    "from django.db.models import F\n",
    "payment = (Payment.objects.annotate(after_discount_price=F('price')-F('discount')).filter(after_discount_price__gt=500000).order_by('-after_discount_price')[:10])\n",
    "for p in payment:\n",
    "    print(f\"ID: {p.id}, PRICE: {p.price}, DISCOUNT: {p.discount}, AFTER_DISCOUNT: {p.after_discount_price}\")"
   ]
  },
  {
   "cell_type": "code",
   "execution_count": null,
   "metadata": {},
   "outputs": [],
   "source": []
  },
  {
   "cell_type": "code",
   "execution_count": null,
   "metadata": {},
   "outputs": [],
   "source": [
    "หาค่าเฉลี่ยของจำนวนสินค้าที่ถูกสั่งซื้อ (OrderItem.amount) ของลูกค้าที่มีการสั่งซื้อในเดือน มิถุนายน (ดูจาก Order.order_date)"
   ]
  },
  {
   "cell_type": "code",
   "execution_count": 17,
   "metadata": {},
   "outputs": [
    {
     "name": "stdout",
     "output_type": "stream",
     "text": [
      "{'amount__avg': 2.079710144927536}\n"
     ]
    }
   ],
   "source": [
    "from django.db.models import Avg\n",
    "a = OrderItem.objects.filter(order__order_date__month=6).aggregate(Avg('amount'))\n",
    "print(a)"
   ]
  },
  {
   "cell_type": "code",
   "execution_count": null,
   "metadata": {},
   "outputs": [],
   "source": [
    "จทย์ที่ 5: หาผลรวมราคาของสินค้าที่ลูกค้าทั้งหมดซื้อในปี 2023 (ดูจาก Order.order_date)"
   ]
  },
  {
   "cell_type": "code",
   "execution_count": 26,
   "metadata": {},
   "outputs": [
    {
     "name": "stdout",
     "output_type": "stream",
     "text": [
      "{'sum': Decimal('13618200.00')}\n"
     ]
    }
   ],
   "source": [
    "from django.db.models import Sum\n",
    "s = OrderItem.objects.filter(order__order_date__year=2024).aggregate(sum=Sum('product__price'))\n",
    "print(s)"
   ]
  },
  {
   "cell_type": "code",
   "execution_count": null,
   "metadata": {},
   "outputs": [],
   "source": [
    "โจทย์ที่ 6: นับจำนวนคำสั่งซื้อทั้งหมด (Order) ที่มีราคามากกว่า 100,000 บาท"
   ]
  },
  {
   "cell_type": "code",
   "execution_count": 31,
   "metadata": {},
   "outputs": [
    {
     "name": "stdout",
     "output_type": "stream",
     "text": [
      "{'order_count': 13}\n"
     ]
    }
   ],
   "source": [
    "from django.db.models import Count\n",
    "\n",
    "order_count = Order.objects.filter(orderitem__product__price__gt=100000).distinct().count()\n",
    "print({'order_count': order_count})"
   ]
  },
  {
   "cell_type": "code",
   "execution_count": null,
   "metadata": {},
   "outputs": [],
   "source": [
    "โจทย์ที่ 7: หาจำนวนเงินรวมที่ลูกค้าแต่ละคนใช้จ่ายไป (Payment.price)"
   ]
  },
  {
   "cell_type": "code",
   "execution_count": 54,
   "metadata": {},
   "outputs": [
    {
     "name": "stdout",
     "output_type": "stream",
     "text": [
      "{'price__sum': Decimal('18717.00')}\n"
     ]
    }
   ],
   "source": [
    "p = Payment.objects.filter(order__customer_id=1).aggregate(Sum('price'))#คนเดว\n",
    "print(p)"
   ]
  },
  {
   "cell_type": "code",
   "execution_count": null,
   "metadata": {},
   "outputs": [],
   "source": [
    "from django.db.models import Sum\n",
    "import json\n",
    "\n",
    "# คำนวณจำนวนเงินรวมที่ลูกค้าแต่ละคนใช้จ่าย\n",
    "total_spent_per_customer = Payment.objects.values('order__customer_id').annotate(total_spent=Sum('price')).order_by('order__customer_id')\n",
    "\n",
    "# แปลง Decimal เป็น str\n",
    "total_spent_per_customer = [\n",
    "    {\n",
    "        'order__customer_id': item['order__customer_id'],\n",
    "        'total_spent': str(item['total_spent'])  # แปลง Decimal เป็น str\n",
    "    }\n",
    "    for item in total_spent_per_customer\n",
    "]\n",
    "\n",
    "print(json.dumps(total_spent_per_customer, indent=4, sort_keys=False))"
   ]
  },
  {
   "cell_type": "code",
   "execution_count": null,
   "metadata": {},
   "outputs": [],
   "source": []
  },
  {
   "cell_type": "code",
   "execution_count": null,
   "metadata": {},
   "outputs": [],
   "source": [
    "โจทย์ที่ 8: หาค่าเฉลี่ยของจำนวนสินค้าที่คงเหลือ (Product.remaining_amount) ในแต่ละประเภทของสินค้า"
   ]
  },
  {
   "cell_type": "code",
   "execution_count": 62,
   "metadata": {},
   "outputs": [
    {
     "name": "stdout",
     "output_type": "stream",
     "text": [
      "[{'categories__name': 'Books and Toy', 'remaining_amount__avg': 74.1}, {'categories__name': 'Clothing and Apparel', 'remaining_amount__avg': 137.7}, {'categories__name': 'Electronics', 'remaining_amount__avg': 37.9}, {'categories__name': 'Furniture', 'remaining_amount__avg': 36.6}, {'categories__name': 'Information Technology', 'remaining_amount__avg': 24.5}, {'categories__name': 'Jewelry', 'remaining_amount__avg': 11.8}, {'categories__name': 'Pet Supplies', 'remaining_amount__avg': 56.2}]\n"
     ]
    }
   ],
   "source": [
    "a = Product.objects.values('categories__name').annotate(Avg('remaining_amount')).order_by('categories__name')\n",
    "print(list(a))"
   ]
  },
  {
   "cell_type": "code",
   "execution_count": 59,
   "metadata": {},
   "outputs": [
    {
     "name": "stdout",
     "output_type": "stream",
     "text": [
      "[{'categories__name': 'Books and Toy', 'avg_remaining': 74.1}, {'categories__name': 'Clothing and Apparel', 'avg_remaining': 137.7}, {'categories__name': 'Electronics', 'avg_remaining': 37.9}, {'categories__name': 'Furniture', 'avg_remaining': 36.6}, {'categories__name': 'Information Technology', 'avg_remaining': 24.5}, {'categories__name': 'Jewelry', 'avg_remaining': 11.8}, {'categories__name': 'Pet Supplies', 'avg_remaining': 56.2}]\n"
     ]
    }
   ],
   "source": [
    " avg_remaining = Product.objects.values('categories__name').annotate(avg_remaining=Avg('remaining_amount')).order_by('categories__name')\n",
    "print(list(avg_remaining))"
   ]
  },
  {
   "cell_type": "code",
   "execution_count": null,
   "metadata": {},
   "outputs": [],
   "source": []
  },
  {
   "cell_type": "code",
   "execution_count": null,
   "metadata": {},
   "outputs": [],
   "source": []
  },
  {
   "cell_type": "code",
   "execution_count": null,
   "metadata": {},
   "outputs": [],
   "source": []
  },
  {
   "cell_type": "code",
   "execution_count": null,
   "metadata": {},
   "outputs": [],
   "source": []
  },
  {
   "cell_type": "code",
   "execution_count": null,
   "metadata": {},
   "outputs": [],
   "source": []
  },
  {
   "cell_type": "code",
   "execution_count": null,
   "metadata": {},
   "outputs": [],
   "source": [
    "1.1 query หาข้อมูล Order ทั้งหมดที่เกิดขึ้นในเดือน พฤษภาคม มาแสดงผล 10 รายการแรก และแสดงผลดังตัวอย่าง (0.5 คะแนน)\n",
    "\n",
    "ORDER ID:22, DATE: 2024-05-01, PRICE: 4890.00\n",
    "ORDER ID:23, DATE: 2024-05-01, PRICE: 2540.00\n",
    "ORDER ID:24, DATE: 2024-05-01, PRICE: 1720.00\n",
    "ORDER ID:25, DATE: 2024-05-02, PRICE: 322499.00\n",
    "ORDER ID:26, DATE: 2024-05-02, PRICE: 3399.00\n",
    "ORDER ID:27, DATE: 2024-05-02, PRICE: 1190.00\n",
    "ORDER ID:28, DATE: 2024-05-03, PRICE: 9499.00\n",
    "ORDER ID:29, DATE: 2024-05-03, PRICE: 700.00\n",
    "ORDER ID:30, DATE: 2024-05-03, PRICE: 1690.00\n",
    "ORDER ID:31, DATE: 2024-05-04, PRICE: 3280.00"
   ]
  },
  {
   "cell_type": "code",
   "execution_count": 80,
   "metadata": {},
   "outputs": [
    {
     "name": "stdout",
     "output_type": "stream",
     "text": [
      "ORDER ID:22, DATE:2024-05-01, PRICE: 4890.00\n",
      "ORDER ID:23, DATE:2024-05-01, PRICE: 2540.00\n",
      "ORDER ID:24, DATE:2024-05-01, PRICE: 1720.00\n",
      "ORDER ID:25, DATE:2024-05-02, PRICE: 322499.00\n",
      "ORDER ID:26, DATE:2024-05-02, PRICE: 3399.00\n",
      "ORDER ID:27, DATE:2024-05-02, PRICE: 1190.00\n",
      "ORDER ID:28, DATE:2024-05-03, PRICE: 9499.00\n",
      "ORDER ID:29, DATE:2024-05-03, PRICE: 700.00\n",
      "ORDER ID:30, DATE:2024-05-03, PRICE: 1690.00\n",
      "ORDER ID:31, DATE:2024-05-04, PRICE: 3280.00\n"
     ]
    }
   ],
   "source": [
    "o = Order.objects.filter(order_date__month=5)[:10]\n",
    "for i in o:\n",
    "    print( f\"ORDER ID:{i.id}, DATE:{i.order_date}, PRICE: {i.payment.price}\")"
   ]
  },
  {
   "cell_type": "code",
   "execution_count": null,
   "metadata": {},
   "outputs": [],
   "source": [
    "query หาข้อมูล Product ที่มีคำลงท้ายว่า features. ในรายละเอียดสินค้า และแสดงผลดังตัวอย่าง (0.5 คะแนน)\n",
    "\n",
    "PRODUCT ID: 1, DESCRIPTION: A sleek and powerful smartphone with advanced features.\n",
    "PRODUCT ID: 7, DESCRIPTION: High-resolution digital camera with advanced photography features.\n",
    "PRODUCT ID: 10, DESCRIPTION: A stylish smartwatch with health monitoring and notification features.\n",
    "PRODUCT ID: 14, DESCRIPTION: Split air conditioner with remote control and energy-saving features.\n",
    "PRODUCT ID: 45, DESCRIPTION: Customizable racing track set with loop and jump features."
   ]
  },
  {
   "cell_type": "code",
   "execution_count": 85,
   "metadata": {},
   "outputs": [
    {
     "name": "stdout",
     "output_type": "stream",
     "text": [
      "PRODUCT ID:1, DESCRIPTION: A sleek and powerful smartphone with advanced features.\n",
      "PRODUCT ID:7, DESCRIPTION: High-resolution digital camera with advanced photography features.\n",
      "PRODUCT ID:10, DESCRIPTION: A stylish smartwatch with health monitoring and notification features.\n",
      "PRODUCT ID:14, DESCRIPTION: Split air conditioner with remote control and energy-saving features.\n",
      "PRODUCT ID:45, DESCRIPTION: Customizable racing track set with loop and jump features.\n"
     ]
    }
   ],
   "source": [
    "p = Product.objects.filter(description__endswith='features.')\n",
    "for i in p:\n",
    "    print(f\"PRODUCT ID:{i.id}, DESCRIPTION: {i.description}\")"
   ]
  },
  {
   "cell_type": "code",
   "execution_count": null,
   "metadata": {},
   "outputs": [],
   "source": [
    "1.3 query หาข้อมูล Product ที่มีราคาสินค้าตั้งแต่ 5000.00 ขึ้นไป และอยู่ในหมวดหมู่ Information Technology และแสดงผลดังตัวอย่าง (0.5 คะแนน)\n",
    "\n",
    "PRODUCT ID: 1, NAME: Smartphone, PRICE: 5900.00\n",
    "PRODUCT ID: 2, NAME: Laptop, PRICE: 25999.00\n",
    "PRODUCT ID: 3, NAME: Smart TV, PRICE: 8900.00\n",
    "PRODUCT ID: 5, NAME: Tablet, PRICE: 12900.00\n",
    "PRODUCT ID: 6, NAME: Gaming Console, PRICE: 5000.00\n",
    "PRODUCT ID: 7, NAME: Digital Camera, PRICE: 32000.00\n",
    "PRODUCT ID: 10, NAME: Smartwatch, PRICE: 4500.00"
   ]
  },
  {
   "cell_type": "code",
   "execution_count": 88,
   "metadata": {},
   "outputs": [
    {
     "name": "stdout",
     "output_type": "stream",
     "text": [
      "PRODUCT ID: 1, NAME: Smartphone, PRICE: 5900.00\n",
      "PRODUCT ID: 2, NAME: Laptop, PRICE: 25999.00\n",
      "PRODUCT ID: 3, NAME: Smart TV, PRICE: 8900.00\n",
      "PRODUCT ID: 5, NAME: Tablet, PRICE: 12900.00\n",
      "PRODUCT ID: 6, NAME: Gaming Console, PRICE: 5000.00\n",
      "PRODUCT ID: 7, NAME: Digital Camera, PRICE: 32000.00\n"
     ]
    }
   ],
   "source": [
    "p = Product.objects.filter(price__gte=5000,categories__name='Information Technology')\n",
    "for i in p:\n",
    "    print(f\"PRODUCT ID: {i.id}, NAME: {i.name}, PRICE: {i.price}\")"
   ]
  },
  {
   "cell_type": "code",
   "execution_count": null,
   "metadata": {},
   "outputs": [],
   "source": [
    "1.4 query หาข้อมูล Product ที่มีราคาสินค้าน้อยกว่า 200.00 และมากกว่า 100.00 และแสดงผลดังตัวอย่าง (0.5 คะแนน)\n",
    "\n",
    "PRODUCT ID: 28, NAME: Women's Sweater, PRICE: 190.00\n",
    "PRODUCT ID: 66, NAME: Salvage the Bones, PRICE: 129.00"
   ]
  },
  {
   "cell_type": "code",
   "execution_count": 95,
   "metadata": {},
   "outputs": [
    {
     "name": "stdout",
     "output_type": "stream",
     "text": [
      "PRODUCT ID: 28, NAME: Women's Sweater, PRICE: 190.00\n"
     ]
    }
   ],
   "source": [
    "from shop.models import Product\n",
    "product = Product.objects.filter(price__gt=100.00, price__lt=200)\n",
    "for ans in product:\n",
    "    print(f\"PRODUCT ID: {ans.id}, NAME: {ans.name}, PRICE: {ans.price:.2f}\")\n"
   ]
  },
  {
   "cell_type": "code",
   "execution_count": null,
   "metadata": {},
   "outputs": [],
   "source": [
    "Query หาข้อมูล Customer ที่ไม่มีที่อยู่ (address เป็น null)"
   ]
  },
  {
   "cell_type": "code",
   "execution_count": 99,
   "metadata": {},
   "outputs": [
    {
     "name": "stdout",
     "output_type": "stream",
     "text": [
      "1\n",
      "2\n",
      "3\n",
      "4\n",
      "5\n",
      "6\n",
      "7\n",
      "8\n",
      "9\n",
      "10\n",
      "11\n",
      "12\n",
      "13\n",
      "14\n",
      "15\n",
      "16\n",
      "17\n",
      "18\n",
      "19\n",
      "20\n",
      "21\n",
      "22\n",
      "23\n",
      "24\n",
      "25\n",
      "26\n",
      "27\n",
      "28\n",
      "29\n",
      "30\n"
     ]
    }
   ],
   "source": [
    "c = Customer.objects.filter(address__isnull=False)\n",
    "for i in c:\n",
    "    print(f\"{i.id}\")"
   ]
  },
  {
   "cell_type": "code",
   "execution_count": null,
   "metadata": {},
   "outputs": [],
   "source": [
    " Query หาข้อมูล OrderItem ที่มีจำนวนสินค้ามากกว่า 1"
   ]
  },
  {
   "cell_type": "code",
   "execution_count": 101,
   "metadata": {},
   "outputs": [
    {
     "name": "stdout",
     "output_type": "stream",
     "text": [
      "49\n",
      "50\n",
      "3\n",
      "18\n",
      "43\n",
      "55\n",
      "65\n",
      "64\n",
      "21\n",
      "36\n",
      "51\n",
      "59\n",
      "16\n",
      "57\n",
      "13\n",
      "1\n",
      "9\n",
      "6\n",
      "36\n",
      "65\n",
      "42\n",
      "2\n",
      "21\n",
      "9\n",
      "16\n",
      "51\n",
      "60\n",
      "37\n",
      "61\n",
      "21\n",
      "8\n",
      "64\n",
      "8\n",
      "33\n",
      "41\n",
      "60\n",
      "55\n",
      "17\n",
      "54\n",
      "43\n",
      "51\n",
      "26\n",
      "50\n",
      "4\n",
      "28\n",
      "9\n",
      "28\n",
      "12\n",
      "53\n",
      "14\n",
      "32\n",
      "25\n",
      "60\n",
      "49\n",
      "45\n",
      "20\n",
      "57\n",
      "60\n",
      "36\n",
      "21\n",
      "23\n",
      "17\n",
      "23\n",
      "45\n",
      "25\n",
      "46\n",
      "13\n",
      "42\n",
      "55\n",
      "63\n",
      "19\n",
      "45\n",
      "20\n",
      "51\n",
      "18\n",
      "33\n",
      "34\n",
      "39\n",
      "44\n",
      "12\n",
      "23\n",
      "47\n",
      "36\n",
      "10\n",
      "19\n",
      "13\n",
      "25\n",
      "10\n",
      "58\n",
      "59\n",
      "7\n",
      "16\n",
      "26\n",
      "63\n",
      "29\n",
      "56\n",
      "35\n",
      "14\n",
      "4\n",
      "17\n",
      "51\n",
      "34\n",
      "59\n",
      "47\n",
      "43\n",
      "34\n",
      "44\n",
      "46\n",
      "41\n",
      "54\n",
      "41\n",
      "23\n",
      "36\n",
      "17\n",
      "7\n",
      "44\n",
      "55\n",
      "20\n",
      "25\n",
      "63\n",
      "54\n",
      "14\n",
      "36\n",
      "27\n",
      "58\n",
      "59\n",
      "47\n",
      "62\n",
      "24\n",
      "13\n",
      "9\n",
      "34\n",
      "11\n",
      "49\n",
      "14\n",
      "11\n",
      "2\n",
      "47\n",
      "16\n",
      "8\n",
      "15\n",
      "14\n",
      "18\n",
      "42\n",
      "44\n",
      "17\n",
      "34\n",
      "17\n",
      "3\n",
      "32\n",
      "46\n",
      "19\n",
      "53\n",
      "54\n",
      "54\n",
      "23\n",
      "57\n",
      "2\n",
      "55\n",
      "61\n",
      "36\n",
      "24\n",
      "61\n",
      "22\n",
      "22\n",
      "1\n",
      "41\n",
      "32\n",
      "7\n",
      "63\n",
      "24\n",
      "48\n",
      "12\n",
      "48\n",
      "22\n",
      "32\n",
      "65\n",
      "10\n",
      "43\n",
      "59\n",
      "32\n",
      "11\n",
      "8\n",
      "2\n",
      "22\n",
      "39\n",
      "37\n",
      "47\n",
      "31\n",
      "30\n",
      "63\n",
      "19\n",
      "19\n",
      "16\n",
      "29\n",
      "27\n",
      "19\n",
      "32\n",
      "49\n",
      "41\n",
      "62\n",
      "13\n",
      "16\n",
      "23\n",
      "1\n",
      "34\n",
      "31\n",
      "27\n",
      "27\n",
      "24\n",
      "24\n",
      "2\n",
      "15\n",
      "14\n",
      "52\n",
      "63\n",
      "48\n",
      "28\n",
      "53\n",
      "54\n",
      "26\n",
      "11\n",
      "29\n",
      "57\n",
      "42\n",
      "41\n",
      "13\n",
      "50\n",
      "59\n",
      "40\n",
      "48\n",
      "58\n",
      "62\n",
      "28\n",
      "50\n",
      "15\n",
      "13\n",
      "52\n",
      "16\n",
      "62\n",
      "4\n",
      "22\n",
      "63\n",
      "31\n"
     ]
    }
   ],
   "source": [
    "o = OrderItem.objects.filter(amount__gt=1)\n",
    "for i in o:\n",
    "    print(f\"{i.product.id}\")"
   ]
  },
  {
   "cell_type": "code",
   "execution_count": null,
   "metadata": {},
   "outputs": [],
   "source": []
  },
  {
   "cell_type": "code",
   "execution_count": null,
   "metadata": {},
   "outputs": [],
   "source": []
  },
  {
   "cell_type": "code",
   "execution_count": null,
   "metadata": {},
   "outputs": [],
   "source": []
  },
  {
   "cell_type": "code",
   "execution_count": 76,
   "metadata": {},
   "outputs": [
    {
     "name": "stdout",
     "output_type": "stream",
     "text": [
      "CUSTOMER ID: 5\n",
      "CUSTOMER ID: 5\n",
      "CUSTOMER ID: 3\n",
      "CUSTOMER ID: 3\n",
      "CUSTOMER ID: 2\n",
      "CUSTOMER ID: 2\n",
      "CUSTOMER ID: 28\n",
      "CUSTOMER ID: 28\n",
      "CUSTOMER ID: 12\n",
      "CUSTOMER ID: 12\n",
      "CUSTOMER ID: 5\n",
      "CUSTOMER ID: 5\n",
      "CUSTOMER ID: 4\n",
      "CUSTOMER ID: 4\n",
      "CUSTOMER ID: 29\n",
      "CUSTOMER ID: 29\n",
      "CUSTOMER ID: 17\n",
      "CUSTOMER ID: 17\n",
      "CUSTOMER ID: 27\n",
      "CUSTOMER ID: 27\n",
      "CUSTOMER ID: 30\n",
      "CUSTOMER ID: 30\n",
      "CUSTOMER ID: 4\n",
      "CUSTOMER ID: 4\n",
      "CUSTOMER ID: 3\n",
      "CUSTOMER ID: 3\n",
      "CUSTOMER ID: 19\n",
      "CUSTOMER ID: 19\n",
      "CUSTOMER ID: 23\n",
      "CUSTOMER ID: 23\n",
      "CUSTOMER ID: 30\n",
      "CUSTOMER ID: 30\n",
      "CUSTOMER ID: 21\n",
      "CUSTOMER ID: 21\n",
      "CUSTOMER ID: 26\n",
      "CUSTOMER ID: 26\n",
      "CUSTOMER ID: 21\n",
      "CUSTOMER ID: 21\n",
      "CUSTOMER ID: 30\n",
      "CUSTOMER ID: 30\n",
      "CUSTOMER ID: 20\n",
      "CUSTOMER ID: 20\n",
      "CUSTOMER ID: 23\n",
      "CUSTOMER ID: 23\n",
      "CUSTOMER ID: 8\n",
      "CUSTOMER ID: 8\n",
      "CUSTOMER ID: 24\n",
      "CUSTOMER ID: 24\n",
      "CUSTOMER ID: 20\n",
      "CUSTOMER ID: 20\n",
      "CUSTOMER ID: 7\n",
      "CUSTOMER ID: 7\n",
      "CUSTOMER ID: 25\n",
      "CUSTOMER ID: 25\n",
      "CUSTOMER ID: 4\n",
      "CUSTOMER ID: 4\n",
      "CUSTOMER ID: 3\n",
      "CUSTOMER ID: 3\n",
      "CUSTOMER ID: 30\n",
      "CUSTOMER ID: 30\n",
      "CUSTOMER ID: 17\n",
      "CUSTOMER ID: 17\n",
      "CUSTOMER ID: 22\n",
      "CUSTOMER ID: 22\n",
      "CUSTOMER ID: 27\n",
      "CUSTOMER ID: 27\n",
      "CUSTOMER ID: 5\n",
      "CUSTOMER ID: 5\n",
      "CUSTOMER ID: 10\n",
      "CUSTOMER ID: 10\n",
      "CUSTOMER ID: 22\n",
      "CUSTOMER ID: 22\n",
      "CUSTOMER ID: 27\n",
      "CUSTOMER ID: 27\n",
      "CUSTOMER ID: 19\n",
      "CUSTOMER ID: 19\n",
      "CUSTOMER ID: 2\n",
      "CUSTOMER ID: 2\n",
      "CUSTOMER ID: 12\n",
      "CUSTOMER ID: 12\n",
      "CUSTOMER ID: 26\n",
      "CUSTOMER ID: 26\n",
      "CUSTOMER ID: 5\n",
      "CUSTOMER ID: 5\n",
      "CUSTOMER ID: 11\n",
      "CUSTOMER ID: 11\n",
      "CUSTOMER ID: 4\n",
      "CUSTOMER ID: 4\n",
      "CUSTOMER ID: 26\n",
      "CUSTOMER ID: 26\n",
      "CUSTOMER ID: 6\n",
      "CUSTOMER ID: 6\n",
      "CUSTOMER ID: 11\n",
      "CUSTOMER ID: 11\n",
      "CUSTOMER ID: 18\n",
      "CUSTOMER ID: 18\n",
      "CUSTOMER ID: 14\n",
      "CUSTOMER ID: 14\n",
      "CUSTOMER ID: 26\n",
      "CUSTOMER ID: 26\n",
      "CUSTOMER ID: 10\n",
      "CUSTOMER ID: 10\n",
      "CUSTOMER ID: 28\n",
      "CUSTOMER ID: 28\n",
      "CUSTOMER ID: 13\n",
      "CUSTOMER ID: 13\n",
      "CUSTOMER ID: 14\n",
      "CUSTOMER ID: 14\n",
      "CUSTOMER ID: 10\n",
      "CUSTOMER ID: 10\n",
      "CUSTOMER ID: 5\n",
      "CUSTOMER ID: 5\n",
      "CUSTOMER ID: 22\n",
      "CUSTOMER ID: 22\n",
      "CUSTOMER ID: 26\n",
      "CUSTOMER ID: 26\n",
      "CUSTOMER ID: 18\n",
      "CUSTOMER ID: 18\n",
      "CUSTOMER ID: 25\n",
      "CUSTOMER ID: 25\n",
      "CUSTOMER ID: 30\n",
      "CUSTOMER ID: 30\n",
      "CUSTOMER ID: 11\n",
      "CUSTOMER ID: 11\n",
      "CUSTOMER ID: 4\n",
      "CUSTOMER ID: 4\n",
      "CUSTOMER ID: 23\n",
      "CUSTOMER ID: 23\n",
      "CUSTOMER ID: 26\n",
      "CUSTOMER ID: 26\n",
      "CUSTOMER ID: 4\n",
      "CUSTOMER ID: 4\n",
      "CUSTOMER ID: 5\n",
      "CUSTOMER ID: 5\n",
      "CUSTOMER ID: 8\n",
      "CUSTOMER ID: 8\n",
      "CUSTOMER ID: 15\n",
      "CUSTOMER ID: 15\n",
      "CUSTOMER ID: 26\n",
      "CUSTOMER ID: 26\n",
      "CUSTOMER ID: 30\n",
      "CUSTOMER ID: 30\n",
      "CUSTOMER ID: 4\n",
      "CUSTOMER ID: 4\n",
      "CUSTOMER ID: 11\n",
      "CUSTOMER ID: 11\n",
      "CUSTOMER ID: 22\n",
      "CUSTOMER ID: 22\n",
      "CUSTOMER ID: 28\n",
      "CUSTOMER ID: 28\n",
      "CUSTOMER ID: 12\n",
      "CUSTOMER ID: 12\n",
      "CUSTOMER ID: 1\n",
      "CUSTOMER ID: 1\n",
      "CUSTOMER ID: 21\n",
      "CUSTOMER ID: 21\n",
      "CUSTOMER ID: 27\n",
      "CUSTOMER ID: 27\n",
      "CUSTOMER ID: 12\n",
      "CUSTOMER ID: 12\n",
      "CUSTOMER ID: 26\n",
      "CUSTOMER ID: 26\n",
      "CUSTOMER ID: 6\n",
      "CUSTOMER ID: 6\n",
      "CUSTOMER ID: 21\n",
      "CUSTOMER ID: 21\n",
      "CUSTOMER ID: 22\n",
      "CUSTOMER ID: 22\n",
      "CUSTOMER ID: 14\n",
      "CUSTOMER ID: 14\n",
      "CUSTOMER ID: 8\n",
      "CUSTOMER ID: 8\n",
      "CUSTOMER ID: 25\n",
      "CUSTOMER ID: 25\n",
      "CUSTOMER ID: 14\n",
      "CUSTOMER ID: 14\n",
      "CUSTOMER ID: 6\n",
      "CUSTOMER ID: 6\n",
      "CUSTOMER ID: 3\n",
      "CUSTOMER ID: 3\n",
      "CUSTOMER ID: 10\n",
      "CUSTOMER ID: 10\n",
      "CUSTOMER ID: 24\n",
      "CUSTOMER ID: 24\n",
      "CUSTOMER ID: 8\n",
      "CUSTOMER ID: 8\n",
      "CUSTOMER ID: 29\n",
      "CUSTOMER ID: 29\n",
      "CUSTOMER ID: 5\n",
      "CUSTOMER ID: 5\n",
      "CUSTOMER ID: 27\n",
      "CUSTOMER ID: 27\n",
      "CUSTOMER ID: 19\n",
      "CUSTOMER ID: 19\n",
      "CUSTOMER ID: 8\n",
      "CUSTOMER ID: 8\n",
      "CUSTOMER ID: 30\n",
      "CUSTOMER ID: 30\n",
      "CUSTOMER ID: 7\n",
      "CUSTOMER ID: 7\n",
      "CUSTOMER ID: 15\n",
      "CUSTOMER ID: 15\n",
      "CUSTOMER ID: 9\n",
      "CUSTOMER ID: 9\n",
      "CUSTOMER ID: 3\n",
      "CUSTOMER ID: 3\n",
      "CUSTOMER ID: 1\n",
      "CUSTOMER ID: 1\n",
      "CUSTOMER ID: 28\n",
      "CUSTOMER ID: 28\n",
      "CUSTOMER ID: 14\n",
      "CUSTOMER ID: 14\n",
      "CUSTOMER ID: 30\n",
      "CUSTOMER ID: 30\n",
      "CUSTOMER ID: 16\n",
      "CUSTOMER ID: 16\n",
      "CUSTOMER ID: 4\n",
      "CUSTOMER ID: 4\n",
      "CUSTOMER ID: 20\n",
      "CUSTOMER ID: 20\n",
      "CUSTOMER ID: 26\n",
      "CUSTOMER ID: 26\n",
      "CUSTOMER ID: 5\n",
      "CUSTOMER ID: 5\n",
      "CUSTOMER ID: 27\n",
      "CUSTOMER ID: 27\n",
      "CUSTOMER ID: 4\n",
      "CUSTOMER ID: 4\n",
      "CUSTOMER ID: 23\n",
      "CUSTOMER ID: 23\n",
      "CUSTOMER ID: 15\n",
      "CUSTOMER ID: 15\n",
      "CUSTOMER ID: 25\n",
      "CUSTOMER ID: 25\n",
      "CUSTOMER ID: 29\n",
      "CUSTOMER ID: 29\n",
      "CUSTOMER ID: 24\n",
      "CUSTOMER ID: 24\n",
      "CUSTOMER ID: 9\n",
      "CUSTOMER ID: 9\n",
      "CUSTOMER ID: 17\n",
      "CUSTOMER ID: 17\n",
      "CUSTOMER ID: 14\n",
      "CUSTOMER ID: 14\n",
      "CUSTOMER ID: 7\n",
      "CUSTOMER ID: 7\n",
      "CUSTOMER ID: 22\n",
      "CUSTOMER ID: 22\n",
      "CUSTOMER ID: 17\n",
      "CUSTOMER ID: 17\n",
      "CUSTOMER ID: 13\n",
      "CUSTOMER ID: 13\n",
      "CUSTOMER ID: 16\n",
      "CUSTOMER ID: 16\n",
      "CUSTOMER ID: 30\n",
      "CUSTOMER ID: 30\n",
      "CUSTOMER ID: 2\n",
      "CUSTOMER ID: 2\n",
      "CUSTOMER ID: 22\n",
      "CUSTOMER ID: 22\n",
      "CUSTOMER ID: 2\n",
      "CUSTOMER ID: 2\n",
      "CUSTOMER ID: 27\n",
      "CUSTOMER ID: 27\n",
      "CUSTOMER ID: 5\n",
      "CUSTOMER ID: 5\n",
      "CUSTOMER ID: 11\n",
      "CUSTOMER ID: 11\n",
      "CUSTOMER ID: 27\n",
      "CUSTOMER ID: 27\n",
      "CUSTOMER ID: 17\n",
      "CUSTOMER ID: 17\n",
      "CUSTOMER ID: 6\n",
      "CUSTOMER ID: 6\n",
      "CUSTOMER ID: 5\n",
      "CUSTOMER ID: 5\n",
      "CUSTOMER ID: 10\n",
      "CUSTOMER ID: 10\n",
      "CUSTOMER ID: 14\n",
      "CUSTOMER ID: 14\n",
      "CUSTOMER ID: 7\n",
      "CUSTOMER ID: 7\n",
      "CUSTOMER ID: 1\n",
      "CUSTOMER ID: 1\n",
      "CUSTOMER ID: 24\n",
      "CUSTOMER ID: 24\n",
      "CUSTOMER ID: 10\n",
      "CUSTOMER ID: 10\n",
      "CUSTOMER ID: 13\n",
      "CUSTOMER ID: 13\n",
      "CUSTOMER ID: 11\n",
      "CUSTOMER ID: 11\n",
      "CUSTOMER ID: 12\n",
      "CUSTOMER ID: 12\n",
      "CUSTOMER ID: 7\n",
      "CUSTOMER ID: 7\n",
      "CUSTOMER ID: 14\n",
      "CUSTOMER ID: 14\n",
      "CUSTOMER ID: 5\n",
      "CUSTOMER ID: 5\n",
      "CUSTOMER ID: 6\n",
      "CUSTOMER ID: 6\n",
      "CUSTOMER ID: 16\n",
      "CUSTOMER ID: 16\n",
      "CUSTOMER ID: 4\n",
      "CUSTOMER ID: 4\n",
      "CUSTOMER ID: 24\n",
      "CUSTOMER ID: 24\n",
      "CUSTOMER ID: 29\n",
      "CUSTOMER ID: 29\n",
      "CUSTOMER ID: 30\n",
      "CUSTOMER ID: 30\n",
      "CUSTOMER ID: 5\n",
      "CUSTOMER ID: 5\n",
      "CUSTOMER ID: 3\n",
      "CUSTOMER ID: 3\n",
      "CUSTOMER ID: 14\n",
      "CUSTOMER ID: 14\n",
      "CUSTOMER ID: 25\n",
      "CUSTOMER ID: 25\n",
      "CUSTOMER ID: 10\n",
      "CUSTOMER ID: 10\n",
      "CUSTOMER ID: 4\n",
      "CUSTOMER ID: 4\n",
      "CUSTOMER ID: 25\n",
      "CUSTOMER ID: 25\n",
      "CUSTOMER ID: 14\n",
      "CUSTOMER ID: 14\n",
      "CUSTOMER ID: 12\n",
      "CUSTOMER ID: 12\n",
      "CUSTOMER ID: 15\n",
      "CUSTOMER ID: 15\n",
      "CUSTOMER ID: 3\n",
      "CUSTOMER ID: 3\n",
      "CUSTOMER ID: 12\n",
      "CUSTOMER ID: 12\n",
      "CUSTOMER ID: 9\n",
      "CUSTOMER ID: 9\n",
      "CUSTOMER ID: 2\n",
      "CUSTOMER ID: 2\n",
      "CUSTOMER ID: 11\n",
      "CUSTOMER ID: 11\n",
      "CUSTOMER ID: 21\n",
      "CUSTOMER ID: 21\n",
      "CUSTOMER ID: 1\n",
      "CUSTOMER ID: 1\n",
      "CUSTOMER ID: 10\n",
      "CUSTOMER ID: 10\n",
      "CUSTOMER ID: 6\n",
      "CUSTOMER ID: 6\n",
      "CUSTOMER ID: 30\n",
      "CUSTOMER ID: 30\n",
      "CUSTOMER ID: 23\n",
      "CUSTOMER ID: 23\n",
      "CUSTOMER ID: 1\n",
      "CUSTOMER ID: 1\n",
      "CUSTOMER ID: 15\n",
      "CUSTOMER ID: 15\n",
      "CUSTOMER ID: 23\n",
      "CUSTOMER ID: 23\n",
      "CUSTOMER ID: 30\n",
      "CUSTOMER ID: 30\n",
      "CUSTOMER ID: 2\n",
      "CUSTOMER ID: 2\n",
      "CUSTOMER ID: 21\n",
      "CUSTOMER ID: 21\n",
      "CUSTOMER ID: 22\n",
      "CUSTOMER ID: 22\n",
      "CUSTOMER ID: 22\n"
     ]
    }
   ],
   "source": [
    "from shop.models import OrderItem\n",
    "orderitem = OrderItem.objects.filter(amount__gte=1)\n",
    "for c in orderitem:\n",
    "    print(f\"CUSTOMER ID: {c.order.customer.id}\")"
   ]
  },
  {
   "cell_type": "code",
   "execution_count": null,
   "metadata": {},
   "outputs": [],
   "source": [
    " "
   ]
  },
  {
   "cell_type": "code",
   "execution_count": null,
   "metadata": {},
   "outputs": [],
   "source": [
    " Query หาข้อมูล Cart ที่ถูกสร้างขึ้นในปี 2023"
   ]
  },
  {
   "cell_type": "code",
   "execution_count": 105,
   "metadata": {},
   "outputs": [
    {
     "name": "stdout",
     "output_type": "stream",
     "text": [
      "115\n",
      "116\n",
      "117\n",
      "118\n",
      "119\n",
      "120\n",
      "121\n",
      "122\n",
      "123\n",
      "124\n",
      "125\n",
      "126\n",
      "127\n",
      "128\n",
      "129\n",
      "130\n",
      "131\n",
      "132\n",
      "133\n",
      "134\n",
      "135\n",
      "136\n",
      "137\n",
      "138\n",
      "139\n",
      "140\n",
      "141\n",
      "142\n",
      "143\n",
      "144\n",
      "145\n",
      "146\n",
      "147\n",
      "148\n",
      "149\n",
      "150\n",
      "151\n",
      "152\n",
      "153\n",
      "154\n",
      "155\n",
      "156\n",
      "157\n",
      "158\n",
      "159\n",
      "160\n",
      "161\n",
      "162\n",
      "163\n",
      "164\n",
      "165\n",
      "166\n",
      "167\n",
      "168\n",
      "169\n",
      "170\n",
      "171\n",
      "172\n",
      "173\n",
      "174\n",
      "175\n",
      "176\n",
      "177\n",
      "178\n",
      "179\n",
      "180\n",
      "181\n",
      "182\n",
      "183\n"
     ]
    }
   ],
   "source": [
    "c = Cart.objects.filter(create_date__month=6)\n",
    "for i in c:\n",
    "    print(f\"{i.id}\")"
   ]
  },
  {
   "cell_type": "code",
   "execution_count": null,
   "metadata": {},
   "outputs": [],
   "source": [
    "1.1 ให้นักศึกษาค้นหาข้อมูล Payment โดยให้เพิ่ม field ราคาที่ลบกับส่วนลดแล้ว โดยกำหนดให้ชื่อ field ว่า \"after_discount_price\" โดยใช้แสดงข้อมูล 10 ตัวแรกเรียงตาม \"after_discount_price\" จากมากไปน้อย (0.25 คะแนน)\n",
    "\n",
    "หมายเหตุ: จะต้องใช้ annotate() นะครับ\n",
    "\n",
    "ตัวอย่าง Output\n",
    "\n",
    "ID: 92, PRICE: 1200500.00, DISCOUNT 29433.25, AFTER_DISCOUNT 1171066.75\n",
    "ID: 82, PRICE: 1200280.00, DISCOUNT 46229.40, AFTER_DISCOUNT 1154050.60\n",
    "ID: 137, PRICE: 1200690.00, DISCOUNT 71407.25, AFTER_DISCOUNT 1129282.75\n",
    "ID: 105, PRICE: 1200390.00, DISCOUNT 105019.11, AFTER_DISCOUNT 1095370.89\n",
    "ID: 45, PRICE: 1218900.00, DISCOUNT 126859.95, AFTER_DISCOUNT 1092040.05\n",
    "ID: 7, PRICE: 1201200.00, DISCOUNT 113446.20, AFTER_DISCOUNT 1087753.80\n",
    "ID: 18, PRICE: 1202190.00, DISCOUNT 121922.64, AFTER_DISCOUNT 1080267.36\n",
    "ID: 77, PRICE: 379000.00, DISCOUNT 19397.00, AFTER_DISCOUNT 359603.00\n",
    "ID: 127, PRICE: 320450.00, DISCOUNT 14578.90, AFTER_DISCOUNT 305871.10\n",
    "ID: 125, PRICE: 320399.00, DISCOUNT 17939.55, AFTER_DISCOUNT 302459.45"
   ]
  },
  {
   "cell_type": "code",
   "execution_count": 110,
   "metadata": {},
   "outputs": [
    {
     "name": "stdout",
     "output_type": "stream",
     "text": [
      "ID: 92, PRICE: 1200500.00, DISCOUNT: 29433.25, AFTER: 1171066.75\n",
      "ID: 82, PRICE: 1200280.00, DISCOUNT: 46229.40, AFTER: 1154050.60\n",
      "ID: 137, PRICE: 1200690.00, DISCOUNT: 71407.25, AFTER: 1129282.75\n",
      "ID: 105, PRICE: 1200390.00, DISCOUNT: 105019.11, AFTER: 1095370.89\n",
      "ID: 45, PRICE: 1218900.00, DISCOUNT: 126859.95, AFTER: 1092040.05\n",
      "ID: 7, PRICE: 1201200.00, DISCOUNT: 113446.20, AFTER: 1087753.80\n",
      "ID: 18, PRICE: 1202190.00, DISCOUNT: 121922.64, AFTER: 1080267.36\n",
      "ID: 77, PRICE: 379000.00, DISCOUNT: 19397.00, AFTER: 359603.00\n",
      "ID: 127, PRICE: 320450.00, DISCOUNT: 14578.90, AFTER: 305871.10\n",
      "ID: 125, PRICE: 320399.00, DISCOUNT: 17939.55, AFTER: 302459.45\n"
     ]
    }
   ],
   "source": [
    "from django.db.models import F\n",
    "p = Payment.objects.annotate(after_discount_price=F('price')-F('discount')).order_by('-after_discount_price')[1:11]\n",
    "for i in p:\n",
    "    print(f\"ID: {i.id}, PRICE: {i.price}, DISCOUNT: {i.discount}, AFTER: {i.after_discount_price}\")"
   ]
  },
  {
   "cell_type": "code",
   "execution_count": null,
   "metadata": {},
   "outputs": [],
   "source": [
    "1.2 ต่อเนื่องจากข้อ 1.1 ให้ filter เฉพาะข้อมูล Payment ที่มี \"after_discount_price\" มากกว่า 500,000 (0.25 คะแนน)\n",
    "\n",
    "ตัวอย่าง Output\n",
    "\n",
    "ID: 92, PRICE: 1200500.00, DISCOUNT 29433.25, AFTER_DISCOUNT 1171066.75\n",
    "ID: 82, PRICE: 1200280.00, DISCOUNT 46229.40, AFTER_DISCOUNT 1154050.60\n",
    "ID: 137, PRICE: 1200690.00, DISCOUNT 71407.25, AFTER_DISCOUNT 1129282.75\n",
    "ID: 105, PRICE: 1200390.00, DISCOUNT 105019.11, AFTER_DISCOUNT 1095370.89\n",
    "ID: 45, PRICE: 1218900.00, DISCOUNT 126859.95, AFTER_DISCOUNT 1092040.05\n",
    "ID: 7, PRICE: 1201200.00, DISCOUNT 113446.20, AFTER_DISCOUNT 1087753.80\n",
    "ID: 18, PRICE: 1202190.00, DISCOUNT 121922.64, AFTER_DISCOUNT 1080267.36"
   ]
  },
  {
   "cell_type": "code",
   "execution_count": 111,
   "metadata": {},
   "outputs": [
    {
     "name": "stdout",
     "output_type": "stream",
     "text": [
      "ID: 92, PRICE: 1200500.00, DISCOUNT: 29433.25, AFTER: 1171066.75\n",
      "ID: 82, PRICE: 1200280.00, DISCOUNT: 46229.40, AFTER: 1154050.60\n",
      "ID: 137, PRICE: 1200690.00, DISCOUNT: 71407.25, AFTER: 1129282.75\n",
      "ID: 105, PRICE: 1200390.00, DISCOUNT: 105019.11, AFTER: 1095370.89\n",
      "ID: 45, PRICE: 1218900.00, DISCOUNT: 126859.95, AFTER: 1092040.05\n",
      "ID: 7, PRICE: 1201200.00, DISCOUNT: 113446.20, AFTER: 1087753.80\n",
      "ID: 18, PRICE: 1202190.00, DISCOUNT: 121922.64, AFTER: 1080267.36\n"
     ]
    }
   ],
   "source": [
    "from django.db.models import F\n",
    "p = Payment.objects.annotate(after_discount_price=F('price')-F('discount')).filter(after_discount_price__gt=500000).order_by('-after_discount_price')[1:11]\n",
    "for i in p:\n",
    "    print(f\"ID: {i.id}, PRICE: {i.price}, DISCOUNT: {i.discount}, AFTER: {i.after_discount_price}\")"
   ]
  },
  {
   "cell_type": "code",
   "execution_count": null,
   "metadata": {},
   "outputs": [],
   "source": [
    "3.1 ให้นักศึกษาหาค่าเฉลี่ยของราคาสินค้า (Product.price) ที่มีจำนวนคงเหลือ (Product.remaining_amount) มากกว่า 0 (0.25 คะแนน)\n",
    "\n",
    "{'avg': Decimal('29308.000000000000')}"
   ]
  },
  {
   "cell_type": "code",
   "execution_count": 113,
   "metadata": {},
   "outputs": [
    {
     "name": "stdout",
     "output_type": "stream",
     "text": [
      "{'price__avg': Decimal('29308.000000000000')}\n"
     ]
    }
   ],
   "source": [
    "p = Product.objects.filter(remaining_amount__gt=0).aggregate(Avg('price'))\n",
    "print(p)"
   ]
  },
  {
   "cell_type": "code",
   "execution_count": null,
   "metadata": {},
   "outputs": [],
   "source": [
    "3.2 จงหาผลรวมราคา (CartItem.product.price) ที่อยู่ในตระกร้าสินค้าของเดือน พฤษภาคม (ดูจาก Cart.create_date) (0.5 คะแนน)\n",
    "\n",
    "{'sum': Decimal('9912555.00')}"
   ]
  },
  {
   "cell_type": "code",
   "execution_count": 115,
   "metadata": {},
   "outputs": [
    {
     "name": "stdout",
     "output_type": "stream",
     "text": [
      "{'sum': Decimal('9912555.00')}\n"
     ]
    }
   ],
   "source": [
    "c = CartItem.objects.filter(cart__create_date__month=5).aggregate(sum=Sum('product__price'))\n",
    "print(c)"
   ]
  },
  {
   "cell_type": "code",
   "execution_count": null,
   "metadata": {},
   "outputs": [],
   "source": [
    "3.3 ให้นักศึกษานับจำนวนสินค้าที่อยู่ประเภท Electronics, Jewelry และ ราคาของสินค้าอยู่ในช่วง 8,000.00 - 50,000.00 (0.25 คะแนน)\n",
    "\n",
    "PRODUCT CATEGORY NAME: Electronics, PRODUCT COUNT: 6\n",
    "PRODUCT CATEGORY NAME: Jewelry, PRODUCT COUNT: 1"
   ]
  },
  {
   "cell_type": "code",
   "execution_count": 122,
   "metadata": {},
   "outputs": [
    {
     "name": "stdout",
     "output_type": "stream",
     "text": [
      "PRODUCT CATEGORY NAME:Electronics, PRODUCT COUNT: 6\n",
      "PRODUCT CATEGORY NAME:Jewelry, PRODUCT COUNT: 1\n"
     ]
    }
   ],
   "source": [
    "c = Product.objects.filter(categories__name__in=['Electronics','Jewelry'], price__gt=8000,price__lt=50000).values('categories__name').annotate(cou=Count('id'))\n",
    "for i in c:\n",
    "    print(f\"PRODUCT CATEGORY NAME:{i['categories__name']}, PRODUCT COUNT: {i['cou']}\")"
   ]
  },
  {
   "cell_type": "code",
   "execution_count": null,
   "metadata": {},
   "outputs": [],
   "source": [
    "from django.db.models import Count\n",
    "product = (Product.objects.filter(categories__name__in=['Electronics', 'Jewelry'],price__gt=8000,price__lt=50000).values('categories__name').annotate(p_count=Count('id')))\n",
    "for p in product:\n",
    "    print(f\"PRODUCT CATEGORY NAME: {p['categories__name']}, PRODUCT COUNT: {p['p_count']}\")"
   ]
  }
 ],
 "metadata": {
  "kernelspec": {
   "display_name": "Django Shell-Plus",
   "language": "python",
   "name": "django_extensions"
  },
  "language_info": {
   "codemirror_mode": {
    "name": "ipython",
    "version": 3
   },
   "file_extension": ".py",
   "mimetype": "text/x-python",
   "name": "python",
   "nbconvert_exporter": "python",
   "pygments_lexer": "ipython3",
   "version": "3.12.2"
  }
 },
 "nbformat": 4,
 "nbformat_minor": 2
}
